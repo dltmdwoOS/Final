{
 "cells": [
  {
   "cell_type": "markdown",
   "id": "mobile-johns",
   "metadata": {},
   "source": [
    "# Load Packages"
   ]
  },
  {
   "cell_type": "code",
   "execution_count": 6,
   "id": "cosmetic-bolivia",
   "metadata": {},
   "outputs": [],
   "source": [
    "# scikit-learn, scikit-image are needed\n",
    "# If those packages are missed, then, install them by using the following command\n",
    "# pip install scikit-learn scikit-image\n",
    "\n",
    "import os\n",
    "\n",
    "import sklearn.datasets\n",
    "import sklearn.linear_model\n",
    "import sklearn.svm\n",
    "import sklearn.tree\n",
    "import sklearn.ensemble\n",
    "import sklearn.model_selection\n",
    "import sklearn.metrics\n",
    "\n",
    "import skimage.io\n",
    "import skimage.transform\n",
    "import skimage.color\n",
    "\n",
    "import numpy as np\n",
    "\n",
    "import matplotlib.pyplot as plt \n",
    "%matplotlib inline"
   ]
  },
  {
   "cell_type": "markdown",
   "id": "modern-columbia",
   "metadata": {},
   "source": [
    "# Load Additional Packages (if you want to use other modules in Scikit Learn)"
   ]
  },
  {
   "cell_type": "code",
   "execution_count": 7,
   "id": "racial-growing",
   "metadata": {},
   "outputs": [],
   "source": [
    "from sklearn.ensemble import ExtraTreesClassifier\n",
    "from sklearn.ensemble import AdaBoostClassifier\n",
    "import joblib"
   ]
  },
  {
   "cell_type": "markdown",
   "id": "immediate-briefs",
   "metadata": {},
   "source": [
    "# Load Data Points (Do not modify the following block)"
   ]
  },
  {
   "cell_type": "code",
   "execution_count": 10,
   "id": "surgical-background",
   "metadata": {
    "scrolled": false
   },
   "outputs": [],
   "source": [
    "image_size = 64\n",
    "labels = ['glioma_tumor','meningioma_tumor','no_tumor','pituitary_tumor']\n",
    "\n",
    "images = []\n",
    "y = []\n",
    "for i in labels:\n",
    "    folderPath = os.path.join('./tumor_dataset/Training',i)\n",
    "    for j in os.listdir(folderPath):\n",
    "        img = skimage.io.imread(os.path.join(folderPath,j),)\n",
    "        img = skimage.transform.resize(img,(image_size,image_size))\n",
    "        img = skimage.color.rgb2gray(img)\n",
    "        images.append(img)\n",
    "        y.append(i)\n",
    "        \n",
    "images = np.array(images)\n",
    "\n",
    "X = images.reshape((-1, image_size**2))\n",
    "y = np.array(y)"
   ]
  },
  {
   "cell_type": "code",
   "execution_count": null,
   "id": "5ff63d2b",
   "metadata": {
    "scrolled": false
   },
   "outputs": [],
   "source": [
    "j = 0\n",
    "for i in range(len(y)):\n",
    "    if y[i] in labels[j]:\n",
    "        plt.imshow(images[i])\n",
    "        plt.title(\"[Index:{}] Label:{}\".format(i, y[i]))\n",
    "        plt.show()\n",
    "        j += 1\n",
    "    if j >= len(labels):\n",
    "        break"
   ]
  },
  {
   "cell_type": "code",
   "execution_count": 11,
   "id": "cc23d262",
   "metadata": {},
   "outputs": [],
   "source": [
    "X_train, X_test, y_train, y_test = sklearn.model_selection.train_test_split(X, y, test_size=0.3, random_state=0)"
   ]
  },
  {
   "cell_type": "markdown",
   "id": "isolated-airfare",
   "metadata": {},
   "source": [
    "# Classification with Scikit Learn Library (Programming Assignment)\n",
    "### Variable Explanation (Do not change variable names)\n",
    "- 'X_train' is feature vectors of training dataset\n",
    "- 'y_train' is target labels of training dataset\n",
    "- 'X_test' is feature vectors of test dataset\n",
    "- 'y_test' is target labels of test dataset\n",
    "- 'y_pred' was initialized as zero vectors and fill 'y_pred' with predicted labels\n",
    "\n",
    "### Find the best model and hyperparameter for tumor classification\n",
    "- Find the best random seed as well and fix it to reproduce your result on other computers."
   ]
  },
  {
   "cell_type": "code",
   "execution_count": 12,
   "id": "a94c7c65",
   "metadata": {},
   "outputs": [],
   "source": [
    "loaded_model = joblib.load('modelRound3.joblib')\n",
    "y_pred = loaded_model.predict(X_test)"
   ]
  },
  {
   "cell_type": "markdown",
   "id": "twenty-mistake",
   "metadata": {},
   "source": [
    "### Print accuracy (do not modify the following block)"
   ]
  },
  {
   "cell_type": "code",
   "execution_count": 13,
   "id": "alien-concert",
   "metadata": {
    "scrolled": true
   },
   "outputs": [
    {
     "name": "stdout",
     "output_type": "stream",
     "text": [
      "Accuracy: 0.73\n"
     ]
    }
   ],
   "source": [
    "print('Accuracy: %.2f' % sklearn.metrics.accuracy_score(y_test, y_pred))"
   ]
  }
 ],
 "metadata": {
  "kernelspec": {
   "display_name": "Python 3 (ipykernel)",
   "language": "python",
   "name": "python3"
  },
  "language_info": {
   "codemirror_mode": {
    "name": "ipython",
    "version": 3
   },
   "file_extension": ".py",
   "mimetype": "text/x-python",
   "name": "python",
   "nbconvert_exporter": "python",
   "pygments_lexer": "ipython3",
   "version": "3.11.4"
  }
 },
 "nbformat": 4,
 "nbformat_minor": 5
}
